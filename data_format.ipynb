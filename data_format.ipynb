{
 "cells": [
  {
   "cell_type": "code",
   "execution_count": null,
   "metadata": {
    "collapsed": true,
    "pycharm": {
     "name": "#%%\n"
    }
   },
   "outputs": [],
   "source": [
    "from l5kit.rasterization import build_rasterizer\n",
    "from l5kit.configs import load_config_data\n",
    "from l5kit.data import LocalDataManager, ChunkedDataset\n",
    "from l5kit.dataset import EgoDataset\n",
    "\n",
    "\n",
    "zarr_dt = ChunkedDataset(\"<path>\")\n",
    "zarr_dt.open()\n",
    "\n",
    "# additional information is required for rasterisation\n",
    "cfg = load_config_data(\"<path>\")\n",
    "rast = build_rasterizer(cfg, LocalDataManager(\"/tmp/l5kit_data\"))\n",
    "\n",
    "dataset = EgoDataset(cfg, zarr_dt, rast)\n",
    "for data in dataset:  # this iterates over frames under the hood\n",
    "    print(data[\"target_positions\"])\n",
    "    print(data[\"history_positions\"])"
   ]
  }
 ],
 "metadata": {
  "kernelspec": {
   "display_name": "Python 3",
   "language": "python",
   "name": "python3"
  },
  "language_info": {
   "codemirror_mode": {
    "name": "ipython",
    "version": 2
   },
   "file_extension": ".py",
   "mimetype": "text/x-python",
   "name": "python",
   "nbconvert_exporter": "python",
   "pygments_lexer": "ipython2",
   "version": "2.7.6"
  }
 },
 "nbformat": 4,
 "nbformat_minor": 0
}