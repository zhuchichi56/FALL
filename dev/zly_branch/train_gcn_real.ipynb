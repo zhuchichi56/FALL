{
 "cells": [
  {
   "cell_type": "markdown",
   "metadata": {
    "pycharm": {
     "name": "#%% md\n"
    }
   },
   "source": [
    "# Lyft: Training with multi-mode confidence\n",
    "\n",
    "![](http://www.l5kit.org/_images/av.jpg)\n",
    "<cite>The image from L5Kit official document: <a href=\"http://www.l5kit.org/README.html\">http://www.l5kit.org/README.html</a></cite>\n",
    "\n",
    "Continued from the previous kernel:\n",
    " - [Lyft: Comprehensive guide to start competition](https://www.kaggle.com/corochann/lyft-comprehensive-guide-to-start-competition)\n",
    " - [Lyft: Deep into the l5kit library](https://www.kaggle.com/corochann/lyft-deep-into-the-l5kit-library)\n",
    "\n",
    "In this kernel, I will run **pytorch CNN model training**. Especially, followings are new items to try:\n",
    " - Predict **multi-mode with confidence**: As written in [evaluation metric](https://www.kaggle.com/c/lyft-motion-prediction-autonomous-vehicles/overview/evaluation) page, we can predict **3 modes** of motion trajectory.\n",
    " - Training loss with **competition evaluation metric**\n",
    " - Use Training abstraction library **`pytorch-ignite` and `pytorch-pfn-extras`**.\n",
    "\n",
    "\n",
    "[Update 2020/9/6]<br/>\n",
    "Published prediction kernel: [Lyft: Prediction with multi-mode confidence](https://www.kaggle.com/corochann/lyft-prediction-with-multi-mode-confidence)<br/>\n",
    "Try yourself how good score you can get using only single model without ensemble! :)"
   ]
  },
  {
   "cell_type": "markdown",
   "metadata": {
    "pycharm": {
     "name": "#%% md\n"
    }
   },
   "source": [
    "# Environment setup\n",
    "\n",
    " - Please add [pestipeti/lyft-l5kit-unofficial-fix](https://www.kaggle.com/pestipeti/lyft-l5kit-unofficial-fix) as utility script.\n",
    "    - Official utility script \"[philculliton/kaggle-l5kit](https://www.kaggle.com/mathurinache/kaggle-l5kit)\" does not work with pytorch GPU.\n",
    " - Please add [lyft-config-files](https://www.kaggle.com/jpbremer/lyft-config-files) as dataset\n",
    " \n",
    "See previous kernel [Lyft: Comprehensive guide to start competition](https://www.kaggle.com/corochann/lyft-comprehensive-guide-to-start-competition) for details."
   ]
  },
  {
   "cell_type": "code",
   "execution_count": 14,
   "metadata": {
    "_kg_hide-input": true,
    "_kg_hide-output": true,
    "execution": {
     "iopub.execute_input": "2022-10-13T03:41:44.939659Z",
     "iopub.status.busy": "2022-10-13T03:41:44.939247Z",
     "iopub.status.idle": "2022-10-13T03:41:44.944832Z",
     "shell.execute_reply": "2022-10-13T03:41:44.944109Z"
    },
    "pycharm": {
     "name": "#%%\n"
    }
   },
   "outputs": [],
   "source": [
    "# https://github.com/pfnet/pytorch-pfn-extras/releases/tag/v0.3.1\n",
    "# !pip install pytorch-pfn-extras==0.6.1"
   ]
  },
  {
   "cell_type": "markdown",
   "metadata": {
    "collapsed": false,
    "pycharm": {
     "name": "#%% md\n"
    }
   },
   "source": []
  },
  {
   "cell_type": "code",
   "execution_count": 15,
   "metadata": {
    "_kg_hide-input": true,
    "execution": {
     "iopub.execute_input": "2022-10-13T03:41:44.949052Z",
     "iopub.status.busy": "2022-10-13T03:41:44.948344Z",
     "iopub.status.idle": "2022-10-13T03:41:46.372877Z",
     "shell.execute_reply": "2022-10-13T03:41:46.372392Z"
    },
    "pycharm": {
     "name": "#%%\n"
    }
   },
   "outputs": [
    {
     "name": "stderr",
     "output_type": "stream",
     "text": [
      "/tmp/ipykernel_992972/1331493952.py:17: DeprecationWarning:\n",
      "\n",
      "Importing display from IPython.core.display is deprecated since IPython 7.14, please import from IPython display\n",
      "\n"
     ]
    },
    {
     "data": {
      "text/html": [
       "        <script type=\"text/javascript\">\n",
       "        window.PlotlyConfig = {MathJaxConfig: 'local'};\n",
       "        if (window.MathJax && window.MathJax.Hub && window.MathJax.Hub.Config) {window.MathJax.Hub.Config({SVG: {font: \"STIX-Web\"}});}\n",
       "        if (typeof require !== 'undefined') {\n",
       "        require.undef(\"plotly\");\n",
       "        requirejs.config({\n",
       "            paths: {\n",
       "                'plotly': ['https://cdn.plot.ly/plotly-2.14.0.min']\n",
       "            }\n",
       "        });\n",
       "        require(['plotly'], function(Plotly) {\n",
       "            window._Plotly = Plotly;\n",
       "        });\n",
       "        }\n",
       "        </script>\n",
       "        "
      ]
     },
     "metadata": {},
     "output_type": "display_data"
    }
   ],
   "source": [
    "import gc\n",
    "import os\n",
    "import time\n",
    "from pathlib import Path\n",
    "import random\n",
    "import sys\n",
    "\n",
    "from tqdm.notebook import tqdm\n",
    "import numpy as np\n",
    "import pandas as pd\n",
    "import scipy as sp\n",
    "\n",
    "\n",
    "import matplotlib.pyplot as plt\n",
    "import seaborn as sns\n",
    "\n",
    "from IPython.core.display import display, HTML\n",
    "\n",
    "# --- plotly ---\n",
    "from plotly import tools, subplots\n",
    "import plotly.offline as py\n",
    "py.init_notebook_mode(connected=True)\n",
    "import plotly.graph_objs as go\n",
    "import plotly.express as px\n",
    "import plotly.figure_factory as ff\n",
    "import plotly.io as pio\n",
    "pio.templates.default = \"plotly_dark\"\n",
    "\n",
    "# --- models ---\n",
    "from sklearn import preprocessing\n",
    "from sklearn.model_selection import KFold\n",
    "import lightgbm as lgb\n",
    "import xgboost as xgb\n",
    "import catboost as cb\n",
    "\n",
    "# --- setup ---\n",
    "# pd.set_option('max_columns', 50)\n"
   ]
  },
  {
   "cell_type": "code",
   "execution_count": 16,
   "metadata": {
    "_kg_hide-input": true,
    "_kg_hide-output": true,
    "execution": {
     "iopub.execute_input": "2022-10-13T03:41:46.376031Z",
     "iopub.status.busy": "2022-10-13T03:41:46.375772Z",
     "iopub.status.idle": "2022-10-13T03:41:47.004815Z",
     "shell.execute_reply": "2022-10-13T03:41:47.004286Z"
    },
    "pycharm": {
     "name": "#%%\n"
    }
   },
   "outputs": [
    {
     "name": "stdout",
     "output_type": "stream",
     "text": [
      "l5kit version: 1.5.0\n"
     ]
    }
   ],
   "source": [
    "import zarr\n",
    "\n",
    "import l5kit\n",
    "from l5kit.data import ChunkedDataset, LocalDataManager\n",
    "from l5kit.dataset import EgoDataset, AgentDataset\n",
    "\n",
    "from l5kit.rasterization import build_rasterizer\n",
    "from l5kit.configs import load_config_data\n",
    "from l5kit.visualization import draw_trajectory, TARGET_POINTS_COLOR\n",
    "from l5kit.geometry import transform_points\n",
    "from tqdm import tqdm\n",
    "from collections import Counter\n",
    "from l5kit.data import PERCEPTION_LABELS\n",
    "from prettytable import PrettyTable\n",
    "\n",
    "from matplotlib import animation, rc\n",
    "from IPython.display import HTML\n",
    "\n",
    "rc('animation', html='jshtml')\n",
    "print(\"l5kit version:\", l5kit.__version__)"
   ]
  },
  {
   "cell_type": "code",
   "execution_count": 17,
   "metadata": {
    "_kg_hide-input": true,
    "execution": {
     "iopub.execute_input": "2022-10-13T03:41:47.007432Z",
     "iopub.status.busy": "2022-10-13T03:41:47.007084Z",
     "iopub.status.idle": "2022-10-13T03:41:47.052361Z",
     "shell.execute_reply": "2022-10-13T03:41:47.051835Z"
    },
    "pycharm": {
     "name": "#%%\n"
    }
   },
   "outputs": [],
   "source": [
    "import torch\n",
    "from pathlib import Path\n",
    "\n",
    "from torch.utils.data import DataLoader\n"
   ]
  },
  {
   "cell_type": "markdown",
   "metadata": {
    "pycharm": {
     "name": "#%% md\n"
    }
   },
   "source": [
    "## Function\n",
    "\n",
    "To define loss function to calculate competition evaluation metric **in batch**.<br/>\n",
    "It works with **pytorch tensor, so it is differentiable** and can be used for training Neural Network."
   ]
  },
  {
   "cell_type": "code",
   "execution_count": 18,
   "metadata": {
    "_kg_hide-input": true,
    "execution": {
     "iopub.execute_input": "2022-10-13T03:41:47.055363Z",
     "iopub.status.busy": "2022-10-13T03:41:47.055168Z",
     "iopub.status.idle": "2022-10-13T03:41:47.063534Z",
     "shell.execute_reply": "2022-10-13T03:41:47.062990Z"
    },
    "pycharm": {
     "name": "#%%\n"
    }
   },
   "outputs": [],
   "source": [
    "# --- Function utils ---\n",
    "# Original code from https://github.com/lyft/l5kit/blob/20ab033c01610d711c3d36e1963ecec86e8b85b6/l5kit/l5kit/evaluation/metrics.py\n",
    "import numpy as np\n",
    "\n",
    "import torch\n",
    "from torch import Tensor\n",
    "\n",
    "\n",
    "def pytorch_neg_multi_log_likelihood_batch(\n",
    "    gt: Tensor, pred: Tensor, confidences: Tensor, avails: Tensor\n",
    ") -> Tensor:\n",
    "    \"\"\"\n",
    "    Compute a negative log-likelihood for the multi-modal scenario.\n",
    "    log-sum-exp trick is used here to avoid underflow and overflow, For more information about it see:\n",
    "    https://en.wikipedia.org/wiki/LogSumExp#log-sum-exp_trick_for_log-domain_calculations\n",
    "    https://timvieira.github.io/blog/post/2014/02/11/exp-normalize-trick/\n",
    "    https://leimao.github.io/blog/LogSumExp/\n",
    "    Args:\n",
    "        gt (Tensor): array of shape (bs)x(time)x(2D coords)\n",
    "        pred (Tensor): array of shape (bs)x(modes)x(time)x(2D coords)\n",
    "        confidences (Tensor): array of shape (bs)x(modes) with a confidence for each mode in each sample\n",
    "        avails (Tensor): array of shape (bs)x(time) with the availability for each gt timestep\n",
    "    Returns:\n",
    "        Tensor: negative log-likelihood for this example, a single float number\n",
    "    \"\"\"\n",
    "    assert len(pred.shape) == 4, f\"expected 3D (MxTxC) array for pred, got {pred.shape}\"\n",
    "    batch_size, num_modes, future_len, num_coords = pred.shape\n",
    "    # print(f\"pred.shape : {pred.shape}\")\n",
    "    assert gt.shape == (batch_size, future_len, num_coords), f\"wrong shape for gt, got {gt.shape}\"\n",
    "    assert confidences.shape == (batch_size, num_modes), f\"expected 1D (Modes) array for gt, got {confidences.shape}\"\n",
    "    assert torch.allclose(torch.sum(confidences, dim=1), confidences.new_ones((batch_size,))), \"confidences should sum to 1\"\n",
    "    assert avails.shape == (batch_size, future_len), f\"expected 1D (Time) array for gt, got {avails.shape}\"\n",
    "    # assert all data are valid\n",
    "    assert torch.isfinite(pred).all(), \"invalid value found in pred\"\n",
    "    assert torch.isfinite(gt).all(), \"invalid value found in gt\"\n",
    "    assert torch.isfinite(confidences).all(), \"invalid value found in confidences\"\n",
    "    assert torch.isfinite(avails).all(), \"invalid value found in avails\"\n",
    "\n",
    "    # convert to (batch_size, num_modes, future_len, num_coords)\n",
    "    gt = torch.unsqueeze(gt, 1)  # add modes\n",
    "    avails = avails[:, None, :, None]  # add modes and cords\n",
    "\n",
    "    # error (batch_size, num_modes, future_len)\n",
    "    error = torch.sum(((gt - pred) * avails) ** 2, dim=-1)  # reduce coords and use availability\n",
    "\n",
    "    with np.errstate(divide=\"ignore\"):  # when confidence is 0 log goes to -inf, but we're fine with it\n",
    "        # error (batch_size, num_modes)\n",
    "        error = torch.log(confidences) - 0.5 * torch.sum(error, dim=-1)  # reduce time\n",
    "\n",
    "    # use max aggregator on modes for numerical stability\n",
    "    # error (batch_size, num_modes)\n",
    "    max_value, _ = error.max(dim=1, keepdim=True)  # error are negative at this point, so max() gives the minimum one\n",
    "    error = -torch.log(torch.sum(torch.exp(error - max_value), dim=-1, keepdim=True)) - max_value  # reduce modes\n",
    "    # print(\"error\", error)\n",
    "    return torch.mean(error)\n",
    "\n",
    "\n",
    "def pytorch_neg_multi_log_likelihood_single(\n",
    "    gt: Tensor, pred: Tensor, avails: Tensor\n",
    ") -> Tensor:\n",
    "    \"\"\"\n",
    "\n",
    "    Args:\n",
    "        gt (Tensor): array of shape (bs)x(time)x(2D coords)\n",
    "        pred (Tensor): array of shape (bs)x(time)x(2D coords)\n",
    "        avails (Tensor): array of shape (bs)x(time) with the availability for each gt timestep\n",
    "    Returns:\n",
    "        Tensor: negative log-likelihood for this example, a single float number\n",
    "    \"\"\"\n",
    "    # pred (bs)x(time)x(2D coords) --> (bs)x(mode=1)x(time)x(2D coords)\n",
    "    # create confidence (bs)x(mode=1)\n",
    "    batch_size, future_len, num_coords = pred.shape\n",
    "    confidences = pred.new_ones((batch_size, 1))\n",
    "    return pytorch_neg_multi_log_likelihood_batch(gt, pred.unsqueeze(1), confidences, avails)"
   ]
  },
  {
   "cell_type": "markdown",
   "metadata": {
    "pycharm": {
     "name": "#%% md\n"
    }
   },
   "source": [
    "## Model\n",
    "\n",
    "pytorch model definition. Here model outputs both **multi-mode trajectory prediction & confidence of each trajectory**."
   ]
  },
  {
   "cell_type": "code",
   "execution_count": 19,
   "metadata": {
    "collapsed": false,
    "execution": {
     "iopub.execute_input": "2022-10-13T03:41:47.066130Z",
     "iopub.status.busy": "2022-10-13T03:41:47.065962Z",
     "iopub.status.idle": "2022-10-13T03:41:47.274373Z",
     "shell.execute_reply": "2022-10-13T03:41:47.273853Z"
    },
    "pycharm": {
     "name": "#%%\n"
    }
   },
   "outputs": [],
   "source": [
    "# --- Model utils ---\n",
    "import torch\n",
    "from torchvision.models import resnet18\n",
    "from torch import nn\n",
    "from typing import Dict\n",
    "\n"
   ]
  },
  {
   "cell_type": "code",
   "execution_count": 20,
   "metadata": {
    "collapsed": false,
    "execution": {
     "iopub.execute_input": "2022-10-13T03:41:47.276881Z",
     "iopub.status.busy": "2022-10-13T03:41:47.276710Z",
     "iopub.status.idle": "2022-10-13T03:41:47.280611Z",
     "shell.execute_reply": "2022-10-13T03:41:47.280124Z"
    },
    "pycharm": {
     "name": "#%%\n"
    }
   },
   "outputs": [],
   "source": [
    "# --- Utils ---\n",
    "import yaml\n",
    "\n",
    "\n",
    "def save_yaml(filepath, content, width=120):\n",
    "    with open(filepath, 'w') as f:\n",
    "        yaml.dump(content, f, width=width)\n",
    "\n",
    "\n",
    "def load_yaml(filepath):\n",
    "    with open(filepath, 'r') as f:\n",
    "        content = yaml.safe_load(f)\n",
    "    return content\n",
    "\n",
    "\n",
    "class DotDict(dict):\n",
    "    \"\"\"dot.notation access to dictionary attributes\n",
    "\n",
    "    Refer: https://stackoverflow.com/questions/2352181/how-to-use-a-dot-to-access-members-of-dictionary/23689767#23689767\n",
    "    \"\"\"  # NOQA\n",
    "\n",
    "    __getattr__ = dict.get\n",
    "    __setattr__ = dict.__setitem__\n",
    "    __delattr__ = dict.__delitem__\n",
    "\n",
    "    "
   ]
  },
  {
   "cell_type": "markdown",
   "metadata": {
    "collapsed": false,
    "pycharm": {
     "name": "#%% md\n"
    }
   },
   "source": [
    "## Configs"
   ]
  },
  {
   "cell_type": "code",
   "execution_count": 21,
   "metadata": {
    "collapsed": false,
    "execution": {
     "iopub.execute_input": "2022-10-13T03:41:47.283628Z",
     "iopub.status.busy": "2022-10-13T03:41:47.283404Z",
     "iopub.status.idle": "2022-10-13T03:41:47.289299Z",
     "shell.execute_reply": "2022-10-13T03:41:47.288773Z"
    },
    "pycharm": {
     "name": "#%%\n"
    }
   },
   "outputs": [],
   "source": [
    "# --- Lyft configs ---\n",
    "cfg = {\n",
    "    'format_version': 4,\n",
    "    'model_params': {\n",
    "        'model_architecture': 'resnet50',\n",
    "        'history_num_frames': 50,\n",
    "        'history_step_size': 1,\n",
    "        'history_delta_time': 0.1,\n",
    "        'future_num_frames': 50,\n",
    "        'future_step_size': 1,\n",
    "        'future_delta_time': 0.1,\n",
    "        'render_ego_history':True,\n",
    "        'step_time':0.1\n",
    "    },\n",
    "\n",
    "    'raster_params': {\n",
    "        'raster_size': [224, 224],\n",
    "        # 'raster_size': [12, 12],\n",
    "        'pixel_size': [0.5, 0.5],\n",
    "        'ego_center': [0.25, 0.5],\n",
    "        'map_type': 'py_semantic',\n",
    "        'satellite_map_key': 'aerial_map/aerial_map.png',\n",
    "        'semantic_map_key': 'semantic_map/semantic_map.pb',\n",
    "        'dataset_meta_key': 'meta.json',\n",
    "        'filter_agents_threshold': 0.5,\n",
    "\n",
    "        'set_origin_to_bottom': True,\n",
    "        'disable_traffic_light_faces':False\n",
    "    },\n",
    "\n",
    "    'train_data_loader': {\n",
    "        'key': 'scenes/train.zarr',\n",
    "        'batch_size': 12,\n",
    "        'shuffle': False,\n",
    "        'num_workers': 4\n",
    "    },\n",
    "\n",
    "    'valid_data_loader': {\n",
    "        'key': 'scenes/validate.zarr',\n",
    "        'batch_size': 32,\n",
    "        'shuffle': False,\n",
    "        'num_workers': 4\n",
    "    },\n",
    "\n",
    "    'train_params': {\n",
    "        'max_num_steps': 10000,\n",
    "        'checkpoint_every_n_steps': 5000,\n",
    "\n",
    "        # 'eval_every_n_steps': -1\n",
    "    }\n",
    "}\n",
    "\n",
    "\n",
    "\n"
   ]
  },
  {
   "cell_type": "code",
   "execution_count": 22,
   "metadata": {
    "collapsed": false,
    "execution": {
     "iopub.execute_input": "2022-10-13T03:41:47.292019Z",
     "iopub.status.busy": "2022-10-13T03:41:47.291802Z",
     "iopub.status.idle": "2022-10-13T03:41:47.294975Z",
     "shell.execute_reply": "2022-10-13T03:41:47.294499Z"
    },
    "pycharm": {
     "name": "#%%\n"
    }
   },
   "outputs": [],
   "source": [
    "flags_dict = {\n",
    "    \"debug\": True,\n",
    "    # --- Data configs ---\n",
    "    \"l5kit_data_folder\": \"/home/zhuhe/kaggle/input/lyft-motion-prediction-autonomous-vehicles\",\n",
    "    # --- Model configs ---\n",
    "    \"pred_mode\": \"multi\",\n",
    "    # --- Training configs ---\n",
    "    \"device\": \"cuda:0\",\n",
    "    \"out_dir\": \"results/multi_train\",\n",
    "    \"epoch\": 2,\n",
    "    \"snapshot_freq\": 50,\n",
    "}"
   ]
  },
  {
   "cell_type": "markdown",
   "metadata": {
    "collapsed": false,
    "pycharm": {
     "name": "#%% md\n"
    }
   },
   "source": [
    "# Main script\n",
    "\n",
    "Now finished defining all the util codes. Let's start writing main script to train the model!"
   ]
  },
  {
   "cell_type": "markdown",
   "metadata": {
    "collapsed": false,
    "pycharm": {
     "name": "#%% md\n"
    }
   },
   "source": [
    "## Loading data\n",
    "\n",
    "Here we will only use the first dataset from the sample set. (sample.zarr data is used for visualization, please use train.zarr / validate.zarr / test.zarr for actual model training/validation/prediction.)<br/>\n",
    "We're building a `LocalDataManager` object. This will resolve relative paths from the config using the `L5KIT_DATA_FOLDER` env variable we have just set."
   ]
  },
  {
   "cell_type": "code",
   "execution_count": 23,
   "metadata": {
    "collapsed": false,
    "execution": {
     "iopub.execute_input": "2022-10-13T03:41:47.297906Z",
     "iopub.status.busy": "2022-10-13T03:41:47.297694Z",
     "iopub.status.idle": "2022-10-13T03:41:47.305318Z",
     "shell.execute_reply": "2022-10-13T03:41:47.304785Z"
    },
    "pycharm": {
     "name": "#%%\n"
    }
   },
   "outputs": [
    {
     "name": "stdout",
     "output_type": "stream",
     "text": [
      "flags: {'debug': True, 'l5kit_data_folder': '/home/zhuhe/kaggle/input/lyft-motion-prediction-autonomous-vehicles', 'pred_mode': 'multi', 'device': 'cuda:0', 'out_dir': 'results/multi_train', 'epoch': 2, 'snapshot_freq': 50}\n"
     ]
    }
   ],
   "source": [
    "flags = DotDict(flags_dict)\n",
    "out_dir = Path(flags.out_dir)\n",
    "os.makedirs(str(out_dir), exist_ok=True)\n",
    "print(f\"flags: {flags_dict}\")\n",
    "save_yaml(out_dir / 'flags.yaml', flags_dict)\n",
    "save_yaml(out_dir / 'cfg.yaml', cfg)\n",
    "debug = flags.debug\n",
    "\n"
   ]
  },
  {
   "cell_type": "code",
   "execution_count": 24,
   "metadata": {
    "collapsed": false,
    "execution": {
     "iopub.execute_input": "2022-10-13T03:41:47.307611Z",
     "iopub.status.busy": "2022-10-13T03:41:47.307371Z",
     "iopub.status.idle": "2022-10-13T03:41:59.723162Z",
     "shell.execute_reply": "2022-10-13T03:41:59.722533Z"
    },
    "pycharm": {
     "name": "#%%\n"
    }
   },
   "outputs": [
    {
     "name": "stdout",
     "output_type": "stream",
     "text": [
      "Load dataset...\n",
      "train_zarr <class 'l5kit.data.zarr_dataset.ChunkedDataset'>\n",
      "test_zarr <class 'l5kit.data.zarr_dataset.ChunkedDataset'>\n"
     ]
    }
   ],
   "source": [
    "# set env variable for data\n",
    "os.environ[\"L5KIT_DATA_FOLDER\"] = flags.l5kit_data_folder\n",
    "dm = LocalDataManager(None)\n",
    "\n",
    "print(\"Load dataset...\")\n",
    "train_cfg = cfg[\"train_data_loader\"]\n",
    "valid_cfg = cfg[\"valid_data_loader\"]\n",
    "\n",
    "# Rasterizer\n",
    "rasterizer = build_rasterizer(cfg, dm)\n",
    "train_path = \"scenes/train.zarr\" if debug else train_cfg[\"key\"]\n",
    "test_path = \"scenes/test.zarr\"\n",
    "train_zarr = ChunkedDataset(dm.require(train_path)).open()\n",
    "test_zarr = ChunkedDataset(dm.require(test_path)).open()\n",
    "print(\"train_zarr\", type(train_zarr))\n",
    "print(\"test_zarr\", type(test_zarr))\n",
    "train_ego_dataset = EgoDataset(cfg, train_zarr, rasterizer)\n",
    "train_agent_dataset = AgentDataset(cfg, train_zarr, rasterizer)\n",
    "test_ego_dataset = EgoDataset(cfg, test_zarr, rasterizer)\n",
    "test_agent_dataset = AgentDataset(cfg, test_zarr, rasterizer)\n",
    "\n",
    "# valid_path = \"scenes/sample.zarr\" if debug else valid_cfg[\"key\"]\n",
    "# valid_zarr = ChunkedDataset(dm.require(valid_path)).open()\n",
    "# print(\"valid_zarr\", type(train_zarr))\n",
    "# valid_agent_dataset = AgentDataset(cfg, valid_zarr, rasterizer)\n",
    "# valid_dataset = TransformDataset(valid_agent_dataset, transform)\n"
   ]
  },
  {
   "cell_type": "code",
   "execution_count": 25,
   "metadata": {
    "collapsed": false,
    "execution": {
     "iopub.execute_input": "2022-10-13T03:41:59.726574Z",
     "iopub.status.busy": "2022-10-13T03:41:59.726360Z",
     "iopub.status.idle": "2022-10-13T03:41:59.737459Z",
     "shell.execute_reply": "2022-10-13T03:41:59.736934Z"
    },
    "pycharm": {
     "name": "#%%\n"
    }
   },
   "outputs": [],
   "source": [
    "def get_distance(centroid1, centroid2):\n",
    "    return np.sqrt(np.square(centroid1[0]-centroid2[0]) + np.square(centroid1[1]-centroid2[1]))\n",
    "# def change_all_list_to_ndarray(dic_in):\n",
    "\n",
    "def transform_one_scene_dataset(scene_ego_dataset, scene_agent_dataset, debug: False):\n",
    "    def add_element_into(ele_dict, ele):\n",
    "        temp_x = []\n",
    "\n",
    "        temp_x.extend(ele[\"history_positions\"].flatten())\n",
    "        temp_x.extend(ele[\"curr_speed\"].flatten())\n",
    "        temp_x.extend((ele[\"history_positions\"][1:-1] - ele[\"history_positions\"][0:-2]).flatten())\n",
    "        temp_x.extend(ele[\"history_yaws\"].flatten())\n",
    "        # temp_x.extend(ele[\"history_availabilities\"].flatten()) # 这个暂时不想要了\n",
    "        ele_dict[\"x\"].append(temp_x)\n",
    "        if len(ele_dict[\"index\"])== 0:\n",
    "            cur_index = 0\n",
    "        else:\n",
    "            cur_index = ele_dict[\"index\"][-1] + 1\n",
    "        for i in range(0,cur_index):\n",
    "            ele_dict[\"edge_attr\"].append(get_distance(ele[\"centroid\"], ele_dict[\"centroid\"][i])) # 双向图\n",
    "            ele_dict[\"edge_index\"][0].append(i)\n",
    "            ele_dict[\"edge_index\"][1].append(cur_index)\n",
    "            ele_dict[\"edge_attr\"].append(get_distance(ele[\"centroid\"], ele_dict[\"centroid\"][i]))\n",
    "            ele_dict[\"edge_index\"][1].append(i)\n",
    "            ele_dict[\"edge_index\"][0].append(cur_index)\n",
    "        ele_dict[\"target_positions\"].append(ele[\"target_positions\"])\n",
    "        ele_dict[\"target_availabilities\"].append(ele[\"target_availabilities\"])\n",
    "        ele_dict[\"centroid\"].append(ele[\"centroid\"])  # 这个元素是为了建图方便\n",
    "        ele_dict[\"index\"].append(cur_index)  # 这个元素是为了建图方便\n",
    "\n",
    "    return_np = [] # 这个的长度应该是247或者248的样子，并且这个就是frame_index\n",
    "\n",
    "    for ele in scene_ego_dataset:\n",
    "        ele_dict = {}\n",
    "        for name in [\"x\",\"edge_index\",\"edge_attr\",\"centroid\",\"index\",\"target_positions\",\"target_availabilities\"]:\n",
    "            if name == \"edge_index\":\n",
    "                ele_dict[name] = [[],[]]\n",
    "            else:\n",
    "                ele_dict[name] = []\n",
    "        add_element_into(ele_dict,ele)\n",
    "        return_np.append(ele_dict)\n",
    "    if debug:\n",
    "        print(f\"len(return_np) : {len(return_np)}\")\n",
    "    for ele in scene_agent_dataset:\n",
    "        curr_frame_index = ele[\"frame_index\"]\n",
    "        if debug:\n",
    "            print(ele[\"frame_index\"])\n",
    "        cur_dict = return_np[curr_frame_index]\n",
    "        add_element_into(cur_dict, ele)\n",
    "\n",
    "    for ele in return_np:\n",
    "        for key_ in ele.keys():\n",
    "            ele[key_] = np.array(ele[key_])\n",
    "\n",
    "        ele[\"x\"] = torch.tensor(ele[\"x\"])\n",
    "        ele[\"edge_index\"] = torch.tensor(ele[\"edge_index\"],dtype=torch.long)\n",
    "        ele[\"edge_attr\"] = torch.tensor(ele[\"edge_attr\"])\n",
    "        ele[\"target_positions\"] = torch.tensor(ele[\"target_positions\"])\n",
    "        ele[\"target_availabilities\"] = torch.tensor(ele[\"target_availabilities\"])\n",
    "\n",
    "    return return_np"
   ]
  },
  {
   "cell_type": "markdown",
   "metadata": {
    "collapsed": false,
    "pycharm": {
     "name": "#%% md\n"
    }
   },
   "source": [
    "## Prepare model & optimizer"
   ]
  },
  {
   "cell_type": "code",
   "execution_count": 26,
   "metadata": {
    "collapsed": false,
    "execution": {
     "iopub.execute_input": "2022-10-13T03:41:59.739938Z",
     "iopub.status.busy": "2022-10-13T03:41:59.739776Z",
     "iopub.status.idle": "2022-10-13T03:42:00.025419Z",
     "shell.execute_reply": "2022-10-13T03:42:00.024831Z"
    },
    "pycharm": {
     "name": "#%%\n"
    }
   },
   "outputs": [],
   "source": [
    "\n",
    "import torch.nn.functional as F\n",
    "from torch_geometric.nn import GCNConv\n",
    "\n",
    "class GCN(torch.nn.Module):\n",
    "    def __init__(self, input_dim, hidden_dim, output_dim, num_layers,\n",
    "                 dropout, whether_dropout= False):\n",
    "        # TODO: Implement this function that initializes self.convs,\n",
    "        # self.bns, and self.softmax.\n",
    "\n",
    "        super(GCN, self).__init__()\n",
    "\n",
    "        # A list of GCNConv layers\n",
    "        self.convs = None\n",
    "\n",
    "        # A list of 1D batch normalization layers\n",
    "        self.bns = None\n",
    "\n",
    "        # The log softmax layer\n",
    "        self.softmax = None\n",
    "        self.dropout = dropout\n",
    "\n",
    "        self.convs = torch.nn.ModuleList()\n",
    "\n",
    "        for i in range(num_layers - 1):\n",
    "            self.convs.append(GCNConv(hidden_dim, hidden_dim))\n",
    "        self.bns=torch.nn.ModuleList([torch.nn.BatchNorm1d(hidden_dim) for i in range(num_layers-1)])\n",
    "        self.convs.append(GCNConv(input_dim, hidden_dim))\n",
    "        self.whether_dropout = whether_dropout\n",
    "        self.output_fc = torch.nn.Linear(in_features=hidden_dim,out_features=output_dim)\n",
    "        self.input_fc = torch.nn.Linear(in_features=input_dim,out_features=hidden_dim) # 输入输出的至关重要\n",
    "\n",
    "\n",
    "\n",
    "\n",
    "    def forward(self, batch_data):\n",
    "        out = None\n",
    "        x = batch_data.x\n",
    "        x = self.input_fc(x)\n",
    "        for layer in range(len(self.convs)-1):  #layer：层数\n",
    "            x=self.convs[layer](x,batch_data.edge_index,batch_data.edge_attr).to(torch.float)   #叠GCNConv\n",
    "            x=self.bns[layer](x) #先bns再relu\n",
    "            # x= x.to(torch.float)# 这个是因为他这的输出搞成了float64,导致大家数据形式不兼容\n",
    "            x=F.relu(x)  #叠relu,这个不会导致数据被转化成float,\n",
    "            if self.whether_dropout is True:\n",
    "                x=F.dropout(x,self.dropout,self.training)  #叠dropout。这个self.dropout看下文是概率。\n",
    "        #最后一层\n",
    "\n",
    "        out=self.convs[-1](x,batch_data.edge_index,batch_data.edge_attr).to(torch.float)  #GCNVonv\n",
    "        out = self.output_fc(out)\n",
    "        return out\n",
    "\n",
    "\n"
   ]
  },
  {
   "cell_type": "code",
   "execution_count": 27,
   "metadata": {
    "collapsed": false,
    "execution": {
     "iopub.execute_input": "2022-10-13T03:42:00.028211Z",
     "iopub.status.busy": "2022-10-13T03:42:00.028014Z",
     "iopub.status.idle": "2022-10-13T03:42:00.031223Z",
     "shell.execute_reply": "2022-10-13T03:42:00.030740Z"
    },
    "pycharm": {
     "name": "#%%\n"
    }
   },
   "outputs": [],
   "source": [
    "args = {\n",
    "    'device' : 'cuda' if torch.cuda.is_available() else 'cpu',\n",
    "    'num_layers': 3,\n",
    "    'hidden_dim': 512,\n",
    "    'dropout': 0.3,\n",
    "    'lr': 0.001,\n",
    "    'epochs': 300,\n",
    "    'train_scene_start': 600, # 这个该有多少，还要好好想想，因为我们存储的数据并不多，主要是egodataset的load速度那边被限制住了\n",
    "    'train_scene_end': 700,\n",
    "    'test_scene_start': 30,\n",
    "    'test_scene_end': 50,\n",
    "    'batch_size_gcn':512,\n",
    "    'whether_dropout' : True,\n",
    "}"
   ]
  },
  {
   "cell_type": "code",
   "execution_count": 28,
   "metadata": {
    "collapsed": false,
    "execution": {
     "iopub.execute_input": "2022-10-13T03:42:00.034047Z",
     "iopub.status.busy": "2022-10-13T03:42:00.033799Z",
     "iopub.status.idle": "2022-10-13T03:42:00.037069Z",
     "shell.execute_reply": "2022-10-13T03:42:00.036530Z"
    },
    "pycharm": {
     "name": "#%%\n"
    }
   },
   "outputs": [],
   "source": [
    "#dict_keys(['frame_index', 'image', 'target_positions', 'target_yaws', 'target_velocities', 'target_availabilities', 'history_positions', 'history_yaws', 'history_velocities', 'history_availabilities', 'world_to_image', 'raster_from_agent', 'raster_from_world', 'agent_from_world', 'world_from_agent', 'centroid', 'yaw', 'extent', 'history_extents', 'future_extents', 'curr_speed', 'scene_index', 'host_id', 'timestamp', 'track_id'])"
   ]
  },
  {
   "cell_type": "code",
   "execution_count": 41,
   "metadata": {
    "collapsed": false,
    "pycharm": {
     "name": "#%%\n"
    }
   },
   "outputs": [],
   "source": [
    "from l5kit.visualization import PREDICTED_POINTS_COLOR\n",
    "\n",
    "def visualize_trajectory(dataset, index,whether_draw_pred = True, title=\"target_positions movement with draw_trajectory\"):\n",
    "    data = dataset[index]\n",
    "    im = data[\"image\"].transpose(1, 2, 0)\n",
    "\n",
    "    im = dataset.rasterizer.to_rgb(im)\n",
    "\n",
    "    target_positions_pixels = transform_points(data[\"target_positions\"] + data[\"centroid\"][:2], data[\"world_to_image\"])\n",
    "    # print(target_positions_pixels)\n",
    "    if whether_draw_pred is True:\n",
    "        draw_trajectory(im, target_positions_pixels, yaws=data[\"target_yaws\"], rgb_color=TARGET_POINTS_COLOR)\n",
    "    # draw_trajectory(im, target_positions_pixels, yaws=data[\"target_yaws\"], rgb_color=PREDICTED_POINTS_COLOR)\n",
    "    # 这个yaw只会影响一点点.拖拽是历史信息\n",
    "\n",
    "    plt.title(title)\n",
    "    plt.imshow(im[::-1])\n",
    "    plt.show()\n"
   ]
  },
  {
   "cell_type": "code",
   "execution_count": 51,
   "metadata": {
    "collapsed": false,
    "pycharm": {
     "name": "#%%\n"
    }
   },
   "outputs": [
    {
     "data": {
      "image/png": "[encoded data removed]",
      "text/plain": [
       "<Figure size 432x288 with 1 Axes>"
      ]
     },
     "metadata": {
      "needs_background": "light"
     },
     "output_type": "display_data"
    }
   ],
   "source": [
    "visualize_trajectory(train_agent_dataset,17700,whether_draw_pred=True)"
   ]
  },
  {
   "cell_type": "code",
   "execution_count": 30,
   "metadata": {
    "collapsed": false,
    "pycharm": {
     "name": "#%%\n"
    }
   },
   "outputs": [],
   "source": [
    "\n",
    "from IPython.display import display, clear_output\n",
    "import PIL\n",
    "\n",
    "def animation_self(dataset,scene_idx):\n",
    "    indexes = dataset.get_scene_indices(scene_idx)\n",
    "    images = []\n",
    "\n",
    "    for idx in indexes:\n",
    "        data = dataset[idx]\n",
    "\n",
    "        im = data[\"image\"].transpose(1, 2, 0)\n",
    "        im = dataset.rasterizer.to_rgb(im)\n",
    "        target_positions_pixels = transform_points(data[\"target_positions\"] + data[\"centroid\"][:2], data[\"world_to_image\"])\n",
    "        center_in_pixels = np.asarray(cfg[\"raster_params\"][\"ego_center\"]) * cfg[\"raster_params\"][\"raster_size\"]\n",
    "        draw_trajectory(im, target_positions_pixels, yaws =  data[\"target_yaws\"], rgb_color=TARGET_POINTS_COLOR)\n",
    "        clear_output(wait=True)\n",
    "        images.append(PIL.Image.fromarray(im[::-1]))\n",
    "    return images\n",
    "    # From https://www.kaggle.com/jpbremer/lyft-scene-visualisations by @jpbremer\n",
    "\n",
    "\n"
   ]
  },
  {
   "cell_type": "code",
   "execution_count": 31,
   "metadata": {
    "collapsed": false,
    "execution": {
     "iopub.execute_input": "2022-10-13T03:42:00.039827Z",
     "iopub.status.busy": "2022-10-13T03:42:00.039611Z",
     "iopub.status.idle": "2022-10-13T03:42:23.609191Z",
     "shell.execute_reply": "2022-10-13T03:42:23.608697Z"
    },
    "pycharm": {
     "name": "#%%\n"
    }
   },
   "outputs": [
    {
     "name": "stderr",
     "output_type": "stream",
     "text": [
      "/home/zhuhe/anaconda3/envs/pytorch/lib/python3.9/site-packages/l5kit/data/zarr_dataset.py:213: RuntimeWarning:\n",
      "\n",
      "zarr dataset path should end with .zarr (for now). Open will fail for this dataset!\n",
      "\n",
      "/home/zhuhe/anaconda3/envs/pytorch/lib/python3.9/site-packages/l5kit/dataset/agent.py:139: RuntimeWarning:\n",
      "\n",
      "you're running with a custom agents_mask\n",
      "\n"
     ]
    },
    {
     "name": "stdout",
     "output_type": "stream",
     "text": [
      "time2-time1:0.006999492645263672\n",
      "time3-time2:0.008362054824829102\n",
      "time4-time3:69.31926822662354\n"
     ]
    }
   ],
   "source": [
    "import time\n",
    "time1 = time.time()\n",
    "scene_ego_dataset = train_ego_dataset.get_scene_dataset(60)\n",
    "time2 = time.time()\n",
    "scene_agent_dataset = train_agent_dataset.get_scene_dataset(60)\n",
    "time3 = time.time()\n",
    "frame_dic_array = transform_one_scene_dataset(scene_ego_dataset,scene_agent_dataset,debug=False)\n",
    "# 主要是这个非常慢\n",
    "time4 = time.time()\n",
    "#\n",
    "print(f'time2-time1:{time2-time1}')\n",
    "print(f'time3-time2:{time3-time2}')\n",
    "print(f'time4-time3:{time4-time3}')\n"
   ]
  },
  {
   "cell_type": "code",
   "execution_count": 32,
   "metadata": {
    "collapsed": false,
    "pycharm": {
     "name": "#%%\n"
    }
   },
   "outputs": [],
   "source": [
    "# indices = train_agent_dataset.get_scene_indices(60)\n",
    "# # print(indices)\n",
    "#\n",
    "# for i in indices:\n",
    "#     a= train_agent_dataset[i][\"frame_index\"]\n",
    "#     b = train_agent_dataset[i]['target_positions']\n",
    "# # for ele in train_agent_dataset[indices]:\n",
    "#\n",
    "# time2 = time.time()\n",
    "# print(f\"time2 - time1 :{time2 - time1}\")\n",
    "# 这样甚至慢了3倍，变到70s\n",
    "# time1 = time.time()\n",
    "# for ele in scene_agent_dataset:\n",
    "#     a= ele[\"frame_index\"]\n",
    "# time2 = time.time()\n",
    "# print(f\"time2 - time1 :{time2 - time1}\")\n",
    "# 这样是24s,多读数据不会影响时间，只要你读取了一个数据就会影响时间"
   ]
  },
  {
   "cell_type": "code",
   "execution_count": 33,
   "metadata": {
    "collapsed": false,
    "pycharm": {
     "name": "#%%\n"
    }
   },
   "outputs": [],
   "source": [
    "# cur_index = 0\n",
    "# end_index = 2000\n",
    "# time1 = time.time()\n",
    "# for ele in train_agent_dataset:\n",
    "#     a= ele[\"frame_index\"]\n",
    "#     cur_index = cur_index + 1\n",
    "#     if cur_index>=end_index:\n",
    "#         break\n",
    "#\n",
    "# time2 = time.time()\n",
    "# print(time2-time1)这样也不会快"
   ]
  },
  {
   "cell_type": "code",
   "execution_count": 34,
   "metadata": {
    "collapsed": false,
    "pycharm": {
     "name": "#%%\n"
    }
   },
   "outputs": [],
   "source": [
    "%%capture\n",
    "def animate_solution(images):\n",
    "\n",
    "    def animate(i):\n",
    "        im.set_data(images[i])\n",
    "        return (im,)\n",
    "\n",
    "    fig, ax = plt.subplots()\n",
    "    im = ax.imshow(images[0])\n",
    "    def init():\n",
    "        im.set_data(images[0])\n",
    "        return (im,)\n",
    "\n",
    "    return animation.FuncAnimation(fig, animate, init_func=init, frames=len(images), interval=60, blit=True)\n",
    "\n",
    "\n",
    "# anim = animate_solution(animation_self(train_ego_dataset,101))\n"
   ]
  },
  {
   "cell_type": "code",
   "execution_count": 35,
   "metadata": {
    "collapsed": false,
    "pycharm": {
     "name": "#%%\n"
    }
   },
   "outputs": [],
   "source": [
    "\n",
    "# HTML(anim.to_jshtml())"
   ]
  },
  {
   "cell_type": "code",
   "execution_count": 36,
   "metadata": {
    "collapsed": false,
    "pycharm": {
     "name": "#%%\n"
    }
   },
   "outputs": [],
   "source": [
    "def draw_the_path(position_array_of_one_car, color = 'green', decimal_ = 1):\n",
    "    eposolor = 1e-6\n",
    "    assert position_array_of_one_car.shape[1] == 2 , \"请输入二维坐标\"\n",
    "    the_avalable_index = len(position_array_of_one_car) - 1\n",
    "    for i in range(1,len(position_array_of_one_car)- 1):\n",
    "        if position_array_of_one_car[i][0] < eposolor and position_array_of_one_car[i][1] < eposolor:\n",
    "            the_avalable_index = i\n",
    "            break\n",
    "    plt.figure(figsize=[7,7])\n",
    "\n",
    "    lim = (max(int(np.max(np.array(position_array_of_one_car[:,0]))),int(np.max(np.array(position_array_of_one_car[:,1])))) //10) * 10\n",
    "    plt.xlim(-lim,lim)\n",
    "    plt.ylim(-lim,lim)\n",
    "    x_real = np.round(position_array_of_one_car[:the_avalable_index,0], decimal_ )\n",
    "    y_real = np.round(position_array_of_one_car[:the_avalable_index,1], decimal_ )\n",
    "    plt.plot( x_real,y_real,color = color)\n",
    "    plt.scatter( x_real,y_real ,color = color)\n",
    "\n",
    "def draw_the_all_path(data_dic):\n",
    "    draw_the_path(data_dic[\"history_positions\"],color='blue')\n",
    "    draw_the_path(data_dic[\"target_positions\"],color='red')"
   ]
  },
  {
   "cell_type": "code",
   "execution_count": 37,
   "metadata": {
    "collapsed": false,
    "execution": {
     "iopub.execute_input": "2022-10-13T03:42:24.860171Z",
     "iopub.status.busy": "2022-10-13T03:42:24.860013Z",
     "iopub.status.idle": "2022-10-13T03:42:24.863191Z",
     "shell.execute_reply": "2022-10-13T03:42:24.862832Z"
    },
    "pycharm": {
     "name": "#%%\n"
    }
   },
   "outputs": [],
   "source": [
    "from torch_geometric.data import Data\n",
    "from torch_geometric.loader import  DataLoader\n",
    "# 这个函数也非常快\n",
    "def convert_framearray_to_dataloader(frame_dic_array):\n",
    "    pyg_data_list = []\n",
    "    for ele in frame_dic_array:\n",
    "        pyg_data_list.append(Data(x = ele[\"x\"],edge_index=ele[\"edge_index\"],edge_attr=ele[\"edge_attr\"],y=torch.cat([ele[\"target_positions\"],torch.unsqueeze(ele[\"target_availabilities\"],dim=-1)],dim = -1)))\n",
    "    return DataLoader(pyg_data_list,batch_size=args['batch_size_gcn'])\n",
    "\n"
   ]
  },
  {
   "cell_type": "code",
   "execution_count": 38,
   "metadata": {
    "collapsed": false,
    "pycharm": {
     "name": "#%%\n"
    }
   },
   "outputs": [],
   "source": [
    "from tqdm import tqdm,trange\n",
    "def load_all_data_into_memory(ego_dataset,agent_dataset,start_index,end_index):\n",
    "    return_array = []\n",
    "    for index_ in trange(start_index,end_index):\n",
    "\n",
    "        scene_ego_dataset = ego_dataset.get_scene_dataset(index_)\n",
    "        scene_agent_dataset = agent_dataset.get_scene_dataset(index_)\n",
    "        frame_dic_array = transform_one_scene_dataset(scene_ego_dataset,scene_agent_dataset,debug=False)\n",
    "        dataloader = convert_framearray_to_dataloader(frame_dic_array)\n",
    "        return_array.append(dataloader)\n",
    "    return  return_array\n",
    "\n",
    "def prepare_dataloader_array():\n",
    "    train_dataloader = load_all_data_into_memory(train_ego_dataset,train_agent_dataset,args['train_scene_start'],args['train_scene_end'])\n",
    "    test_dataloader = load_all_data_into_memory(test_ego_dataset,test_agent_dataset,args['test_scene_start'],args['test_scene_end'])\n",
    "    return train_dataloader,test_dataloader\n"
   ]
  },
  {
   "cell_type": "code",
   "execution_count": 39,
   "metadata": {
    "collapsed": false,
    "pycharm": {
     "name": "#%%\n"
    }
   },
   "outputs": [
    {
     "name": "stderr",
     "output_type": "stream",
     "text": [
      "  4%|▍         | 4/100 [03:07<1:15:10, 46.99s/it]\n"
     ]
    },
    {
     "ename": "KeyboardInterrupt",
     "evalue": "",
     "output_type": "error",
     "traceback": [
      "\u001B[0;31m---------------------------------------------------------------------------\u001B[0m",
      "\u001B[0;31mKeyboardInterrupt\u001B[0m                         Traceback (most recent call last)",
      "Input \u001B[0;32mIn [39]\u001B[0m, in \u001B[0;36m<cell line: 1>\u001B[0;34m()\u001B[0m\n\u001B[0;32m----> 1\u001B[0m train_dataloader,test_dataloader \u001B[38;5;241m=\u001B[39m \u001B[43mprepare_dataloader_array\u001B[49m\u001B[43m(\u001B[49m\u001B[43m)\u001B[49m\n",
      "Input \u001B[0;32mIn [38]\u001B[0m, in \u001B[0;36mprepare_dataloader_array\u001B[0;34m()\u001B[0m\n\u001B[1;32m     13\u001B[0m \u001B[38;5;28;01mdef\u001B[39;00m \u001B[38;5;21mprepare_dataloader_array\u001B[39m():\n\u001B[0;32m---> 14\u001B[0m     train_dataloader \u001B[38;5;241m=\u001B[39m \u001B[43mload_all_data_into_memory\u001B[49m\u001B[43m(\u001B[49m\u001B[43mtrain_ego_dataset\u001B[49m\u001B[43m,\u001B[49m\u001B[43mtrain_agent_dataset\u001B[49m\u001B[43m,\u001B[49m\u001B[43margs\u001B[49m\u001B[43m[\u001B[49m\u001B[38;5;124;43m'\u001B[39;49m\u001B[38;5;124;43mtrain_scene_start\u001B[39;49m\u001B[38;5;124;43m'\u001B[39;49m\u001B[43m]\u001B[49m\u001B[43m,\u001B[49m\u001B[43margs\u001B[49m\u001B[43m[\u001B[49m\u001B[38;5;124;43m'\u001B[39;49m\u001B[38;5;124;43mtrain_scene_end\u001B[39;49m\u001B[38;5;124;43m'\u001B[39;49m\u001B[43m]\u001B[49m\u001B[43m)\u001B[49m\n\u001B[1;32m     15\u001B[0m     test_dataloader \u001B[38;5;241m=\u001B[39m load_all_data_into_memory(test_ego_dataset,test_agent_dataset,args[\u001B[38;5;124m'\u001B[39m\u001B[38;5;124mtest_scene_start\u001B[39m\u001B[38;5;124m'\u001B[39m],args[\u001B[38;5;124m'\u001B[39m\u001B[38;5;124mtest_scene_end\u001B[39m\u001B[38;5;124m'\u001B[39m])\n\u001B[1;32m     16\u001B[0m     \u001B[38;5;28;01mreturn\u001B[39;00m train_dataloader,test_dataloader\n",
      "Input \u001B[0;32mIn [38]\u001B[0m, in \u001B[0;36mload_all_data_into_memory\u001B[0;34m(ego_dataset, agent_dataset, start_index, end_index)\u001B[0m\n\u001B[1;32m      6\u001B[0m scene_ego_dataset \u001B[38;5;241m=\u001B[39m ego_dataset\u001B[38;5;241m.\u001B[39mget_scene_dataset(index_)\n\u001B[1;32m      7\u001B[0m scene_agent_dataset \u001B[38;5;241m=\u001B[39m agent_dataset\u001B[38;5;241m.\u001B[39mget_scene_dataset(index_)\n\u001B[0;32m----> 8\u001B[0m frame_dic_array \u001B[38;5;241m=\u001B[39m \u001B[43mtransform_one_scene_dataset\u001B[49m\u001B[43m(\u001B[49m\u001B[43mscene_ego_dataset\u001B[49m\u001B[43m,\u001B[49m\u001B[43mscene_agent_dataset\u001B[49m\u001B[43m,\u001B[49m\u001B[43mdebug\u001B[49m\u001B[38;5;241;43m=\u001B[39;49m\u001B[38;5;28;43;01mFalse\u001B[39;49;00m\u001B[43m)\u001B[49m\n\u001B[1;32m      9\u001B[0m dataloader \u001B[38;5;241m=\u001B[39m convert_framearray_to_dataloader(frame_dic_array)\n\u001B[1;32m     10\u001B[0m return_array\u001B[38;5;241m.\u001B[39mappend(dataloader)\n",
      "Input \u001B[0;32mIn [25]\u001B[0m, in \u001B[0;36mtransform_one_scene_dataset\u001B[0;34m(scene_ego_dataset, scene_agent_dataset, debug)\u001B[0m\n\u001B[1;32m     42\u001B[0m \u001B[38;5;28;01mif\u001B[39;00m debug:\n\u001B[1;32m     43\u001B[0m     \u001B[38;5;28mprint\u001B[39m(\u001B[38;5;124mf\u001B[39m\u001B[38;5;124m\"\u001B[39m\u001B[38;5;124mlen(return_np) : \u001B[39m\u001B[38;5;132;01m{\u001B[39;00m\u001B[38;5;28mlen\u001B[39m(return_np)\u001B[38;5;132;01m}\u001B[39;00m\u001B[38;5;124m\"\u001B[39m)\n\u001B[0;32m---> 44\u001B[0m \u001B[38;5;28;01mfor\u001B[39;00m ele \u001B[38;5;129;01min\u001B[39;00m scene_agent_dataset:\n\u001B[1;32m     45\u001B[0m     curr_frame_index \u001B[38;5;241m=\u001B[39m ele[\u001B[38;5;124m\"\u001B[39m\u001B[38;5;124mframe_index\u001B[39m\u001B[38;5;124m\"\u001B[39m]\n\u001B[1;32m     46\u001B[0m     \u001B[38;5;28;01mif\u001B[39;00m debug:\n",
      "File \u001B[0;32m~/anaconda3/envs/pytorch/lib/python3.9/site-packages/l5kit/dataset/agent.py:122\u001B[0m, in \u001B[0;36mAgentDataset.__getitem__\u001B[0;34m(self, index)\u001B[0m\n\u001B[1;32m    120\u001B[0m \u001B[38;5;28;01melse\u001B[39;00m:\n\u001B[1;32m    121\u001B[0m     state_index \u001B[38;5;241m=\u001B[39m frame_index \u001B[38;5;241m-\u001B[39m \u001B[38;5;28mself\u001B[39m\u001B[38;5;241m.\u001B[39mcumulative_sizes[scene_index \u001B[38;5;241m-\u001B[39m \u001B[38;5;241m1\u001B[39m]\n\u001B[0;32m--> 122\u001B[0m \u001B[38;5;28;01mreturn\u001B[39;00m \u001B[38;5;28;43mself\u001B[39;49m\u001B[38;5;241;43m.\u001B[39;49m\u001B[43mget_frame\u001B[49m\u001B[43m(\u001B[49m\u001B[43mscene_index\u001B[49m\u001B[43m,\u001B[49m\u001B[43m \u001B[49m\u001B[43mstate_index\u001B[49m\u001B[43m,\u001B[49m\u001B[43m \u001B[49m\u001B[43mtrack_id\u001B[49m\u001B[38;5;241;43m=\u001B[39;49m\u001B[43mtrack_id\u001B[49m\u001B[43m)\u001B[49m\n",
      "File \u001B[0;32m~/anaconda3/envs/pytorch/lib/python3.9/site-packages/l5kit/dataset/ego.py:191\u001B[0m, in \u001B[0;36mEgoDataset.get_frame\u001B[0;34m(self, scene_index, state_index, track_id)\u001B[0m\n\u001B[1;32m    190\u001B[0m \u001B[38;5;28;01mdef\u001B[39;00m \u001B[38;5;21mget_frame\u001B[39m(\u001B[38;5;28mself\u001B[39m, scene_index: \u001B[38;5;28mint\u001B[39m, state_index: \u001B[38;5;28mint\u001B[39m, track_id: Optional[\u001B[38;5;28mint\u001B[39m] \u001B[38;5;241m=\u001B[39m \u001B[38;5;28;01mNone\u001B[39;00m) \u001B[38;5;241m-\u001B[39m\u001B[38;5;241m>\u001B[39m \u001B[38;5;28mdict\u001B[39m:\n\u001B[0;32m--> 191\u001B[0m     data \u001B[38;5;241m=\u001B[39m \u001B[38;5;28;43msuper\u001B[39;49m\u001B[43m(\u001B[49m\u001B[43m)\u001B[49m\u001B[38;5;241;43m.\u001B[39;49m\u001B[43mget_frame\u001B[49m\u001B[43m(\u001B[49m\u001B[43mscene_index\u001B[49m\u001B[43m,\u001B[49m\u001B[43m \u001B[49m\u001B[43mstate_index\u001B[49m\u001B[43m,\u001B[49m\u001B[43m \u001B[49m\u001B[43mtrack_id\u001B[49m\u001B[38;5;241;43m=\u001B[39;49m\u001B[43mtrack_id\u001B[49m\u001B[43m)\u001B[49m\n\u001B[1;32m    192\u001B[0m     \u001B[38;5;66;03m# TODO (@lberg): this should not be here but in the rasterizer\u001B[39;00m\n\u001B[1;32m    193\u001B[0m     data[\u001B[38;5;124m\"\u001B[39m\u001B[38;5;124mimage\u001B[39m\u001B[38;5;124m\"\u001B[39m] \u001B[38;5;241m=\u001B[39m data[\u001B[38;5;124m\"\u001B[39m\u001B[38;5;124mimage\u001B[39m\u001B[38;5;124m\"\u001B[39m]\u001B[38;5;241m.\u001B[39mtranspose(\u001B[38;5;241m2\u001B[39m, \u001B[38;5;241m0\u001B[39m, \u001B[38;5;241m1\u001B[39m)  \u001B[38;5;66;03m# 0,1,C -> C,0,1\u001B[39;00m\n",
      "File \u001B[0;32m~/anaconda3/envs/pytorch/lib/python3.9/site-packages/l5kit/dataset/ego.py:70\u001B[0m, in \u001B[0;36mBaseEgoDataset.get_frame\u001B[0;34m(self, scene_index, state_index, track_id)\u001B[0m\n\u001B[1;32m     67\u001B[0m \u001B[38;5;28;01mif\u001B[39;00m \u001B[38;5;28mself\u001B[39m\u001B[38;5;241m.\u001B[39mcfg[\u001B[38;5;124m\"\u001B[39m\u001B[38;5;124mraster_params\u001B[39m\u001B[38;5;124m\"\u001B[39m][\u001B[38;5;124m\"\u001B[39m\u001B[38;5;124mdisable_traffic_light_faces\u001B[39m\u001B[38;5;124m\"\u001B[39m]:\n\u001B[1;32m     68\u001B[0m     tl_faces \u001B[38;5;241m=\u001B[39m np\u001B[38;5;241m.\u001B[39mempty(\u001B[38;5;241m0\u001B[39m, dtype\u001B[38;5;241m=\u001B[39m\u001B[38;5;28mself\u001B[39m\u001B[38;5;241m.\u001B[39mdataset\u001B[38;5;241m.\u001B[39mtl_faces\u001B[38;5;241m.\u001B[39mdtype)  \u001B[38;5;66;03m# completely disable traffic light faces\u001B[39;00m\n\u001B[0;32m---> 70\u001B[0m data \u001B[38;5;241m=\u001B[39m \u001B[38;5;28;43mself\u001B[39;49m\u001B[38;5;241;43m.\u001B[39;49m\u001B[43msample_function\u001B[49m\u001B[43m(\u001B[49m\u001B[43mstate_index\u001B[49m\u001B[43m,\u001B[49m\u001B[43m \u001B[49m\u001B[43mframes\u001B[49m\u001B[43m,\u001B[49m\u001B[43m \u001B[49m\u001B[38;5;28;43mself\u001B[39;49m\u001B[38;5;241;43m.\u001B[39;49m\u001B[43mdataset\u001B[49m\u001B[38;5;241;43m.\u001B[39;49m\u001B[43magents\u001B[49m\u001B[43m,\u001B[49m\u001B[43m \u001B[49m\u001B[43mtl_faces\u001B[49m\u001B[43m,\u001B[49m\u001B[43m \u001B[49m\u001B[43mtrack_id\u001B[49m\u001B[43m)\u001B[49m\n\u001B[1;32m     72\u001B[0m \u001B[38;5;66;03m# add information only, so that all data keys are always preserved\u001B[39;00m\n\u001B[1;32m     73\u001B[0m data[\u001B[38;5;124m\"\u001B[39m\u001B[38;5;124mscene_index\u001B[39m\u001B[38;5;124m\"\u001B[39m] \u001B[38;5;241m=\u001B[39m scene_index\n",
      "File \u001B[0;32m~/anaconda3/envs/pytorch/lib/python3.9/site-packages/l5kit/sampling/agent_sampling.py:242\u001B[0m, in \u001B[0;36mgenerate_agent_sample\u001B[0;34m(state_index, frames, agents, tl_faces, selected_track_id, render_context, history_num_frames, future_num_frames, step_time, filter_agents_threshold, rasterizer, perturbation)\u001B[0m\n\u001B[1;32m    239\u001B[0m     agent_extent_m \u001B[38;5;241m=\u001B[39m agent[\u001B[38;5;124m\"\u001B[39m\u001B[38;5;124mextent\u001B[39m\u001B[38;5;124m\"\u001B[39m]\n\u001B[1;32m    240\u001B[0m     selected_agent \u001B[38;5;241m=\u001B[39m agent\n\u001B[0;32m--> 242\u001B[0m input_im \u001B[38;5;241m=\u001B[39m \u001B[43mrasterizer\u001B[49m\u001B[38;5;241;43m.\u001B[39;49m\u001B[43mrasterize\u001B[49m\u001B[43m(\u001B[49m\u001B[43mhistory_frames\u001B[49m\u001B[43m,\u001B[49m\u001B[43m \u001B[49m\u001B[43mhistory_agents\u001B[49m\u001B[43m,\u001B[49m\u001B[43m \u001B[49m\u001B[43mhistory_tl_faces\u001B[49m\u001B[43m,\u001B[49m\u001B[43m \u001B[49m\u001B[43mselected_agent\u001B[49m\u001B[43m)\u001B[49m\n\u001B[1;32m    244\u001B[0m world_from_agent \u001B[38;5;241m=\u001B[39m compute_agent_pose(agent_centroid_m, agent_yaw_rad)\n\u001B[1;32m    245\u001B[0m agent_from_world \u001B[38;5;241m=\u001B[39m np\u001B[38;5;241m.\u001B[39mlinalg\u001B[38;5;241m.\u001B[39minv(world_from_agent)\n",
      "File \u001B[0;32m~/anaconda3/envs/pytorch/lib/python3.9/site-packages/l5kit/rasterization/sem_box_rasterizer.py:42\u001B[0m, in \u001B[0;36mSemBoxRasterizer.rasterize\u001B[0;34m(self, history_frames, history_agents, history_tl_faces, agent)\u001B[0m\n\u001B[1;32m     35\u001B[0m \u001B[38;5;28;01mdef\u001B[39;00m \u001B[38;5;21mrasterize\u001B[39m(\n\u001B[1;32m     36\u001B[0m         \u001B[38;5;28mself\u001B[39m,\n\u001B[1;32m     37\u001B[0m         history_frames: np\u001B[38;5;241m.\u001B[39mndarray,\n\u001B[0;32m   (...)\u001B[0m\n\u001B[1;32m     40\u001B[0m         agent: Optional[np\u001B[38;5;241m.\u001B[39mndarray] \u001B[38;5;241m=\u001B[39m \u001B[38;5;28;01mNone\u001B[39;00m,\n\u001B[1;32m     41\u001B[0m ) \u001B[38;5;241m-\u001B[39m\u001B[38;5;241m>\u001B[39m np\u001B[38;5;241m.\u001B[39mndarray:\n\u001B[0;32m---> 42\u001B[0m     im_out_box \u001B[38;5;241m=\u001B[39m \u001B[38;5;28;43mself\u001B[39;49m\u001B[38;5;241;43m.\u001B[39;49m\u001B[43mbox_rast\u001B[49m\u001B[38;5;241;43m.\u001B[39;49m\u001B[43mrasterize\u001B[49m\u001B[43m(\u001B[49m\u001B[43mhistory_frames\u001B[49m\u001B[43m,\u001B[49m\u001B[43m \u001B[49m\u001B[43mhistory_agents\u001B[49m\u001B[43m,\u001B[49m\u001B[43m \u001B[49m\u001B[43mhistory_tl_faces\u001B[49m\u001B[43m,\u001B[49m\u001B[43m \u001B[49m\u001B[43magent\u001B[49m\u001B[43m)\u001B[49m\n\u001B[1;32m     43\u001B[0m     im_out_sem \u001B[38;5;241m=\u001B[39m \u001B[38;5;28mself\u001B[39m\u001B[38;5;241m.\u001B[39msem_rast\u001B[38;5;241m.\u001B[39mrasterize(history_frames, history_agents, history_tl_faces, agent)\n\u001B[1;32m     44\u001B[0m     \u001B[38;5;28;01mreturn\u001B[39;00m np\u001B[38;5;241m.\u001B[39mconcatenate([im_out_box, im_out_sem], \u001B[38;5;241m-\u001B[39m\u001B[38;5;241m1\u001B[39m)\n",
      "File \u001B[0;32m~/anaconda3/envs/pytorch/lib/python3.9/site-packages/l5kit/rasterization/box_rasterizer.py:137\u001B[0m, in \u001B[0;36mBoxRasterizer.rasterize\u001B[0;34m(self, history_frames, history_agents, history_tl_faces, agent)\u001B[0m\n\u001B[1;32m    134\u001B[0m ego_images \u001B[38;5;241m=\u001B[39m np\u001B[38;5;241m.\u001B[39mzeros(out_shape, dtype\u001B[38;5;241m=\u001B[39mnp\u001B[38;5;241m.\u001B[39muint8)\n\u001B[1;32m    136\u001B[0m \u001B[38;5;28;01mfor\u001B[39;00m i, (frame, agents) \u001B[38;5;129;01min\u001B[39;00m \u001B[38;5;28menumerate\u001B[39m(\u001B[38;5;28mzip\u001B[39m(history_frames, history_agents)):\n\u001B[0;32m--> 137\u001B[0m     agents \u001B[38;5;241m=\u001B[39m \u001B[43mfilter_agents_by_labels\u001B[49m\u001B[43m(\u001B[49m\u001B[43magents\u001B[49m\u001B[43m,\u001B[49m\u001B[43m \u001B[49m\u001B[38;5;28;43mself\u001B[39;49m\u001B[38;5;241;43m.\u001B[39;49m\u001B[43mfilter_agents_threshold\u001B[49m\u001B[43m)\u001B[49m\n\u001B[1;32m    138\u001B[0m     \u001B[38;5;66;03m# note the cast is for legacy support of dataset before April 2020\u001B[39;00m\n\u001B[1;32m    139\u001B[0m     av_agent \u001B[38;5;241m=\u001B[39m get_ego_as_agent(frame)\u001B[38;5;241m.\u001B[39mastype(agents\u001B[38;5;241m.\u001B[39mdtype)\n",
      "File \u001B[0;32m~/anaconda3/envs/pytorch/lib/python3.9/site-packages/l5kit/data/filter.py:58\u001B[0m, in \u001B[0;36mfilter_agents_by_labels\u001B[0;34m(agents, threshold)\u001B[0m\n\u001B[1;32m     46\u001B[0m \u001B[38;5;124;03m\"\"\"Filters an agents array, keeping those agents that meet the threshold.\u001B[39;00m\n\u001B[1;32m     47\u001B[0m \n\u001B[1;32m     48\u001B[0m \u001B[38;5;124;03mArguments:\u001B[39;00m\n\u001B[0;32m   (...)\u001B[0m\n\u001B[1;32m     55\u001B[0m \u001B[38;5;124;03m    np.ndarray -- A subset of input ``agents`` array.\u001B[39;00m\n\u001B[1;32m     56\u001B[0m \u001B[38;5;124;03m\"\"\"\u001B[39;00m\n\u001B[1;32m     57\u001B[0m label_indices \u001B[38;5;241m=\u001B[39m _get_label_filter(agents[\u001B[38;5;124m\"\u001B[39m\u001B[38;5;124mlabel_probabilities\u001B[39m\u001B[38;5;124m\"\u001B[39m], threshold)\n\u001B[0;32m---> 58\u001B[0m \u001B[38;5;28;01mreturn\u001B[39;00m \u001B[43magents\u001B[49m\u001B[43m[\u001B[49m\u001B[43mlabel_indices\u001B[49m\u001B[43m]\u001B[49m\n",
      "\u001B[0;31mKeyboardInterrupt\u001B[0m: "
     ]
    }
   ],
   "source": [
    "train_dataloader,test_dataloader = prepare_dataloader_array()"
   ]
  },
  {
   "cell_type": "code",
   "execution_count": null,
   "metadata": {
    "collapsed": false,
    "pycharm": {
     "name": "#%%\n"
    }
   },
   "outputs": [],
   "source": [
    "def train_with_batch(model, device, data_loader, optimizer, loss_fn):\n",
    "    model.train()\n",
    "    loss = 0\n",
    "\n",
    "    # for step, batch in enumerate(tqdm(data_loader, desc=\"Iteration\")):\n",
    "    for batch in data_loader:\n",
    "        batch = batch.to(device)\n",
    "        if batch.x.shape[0] == 1 or batch.batch[-1] == 0:\n",
    "            pass\n",
    "        else:\n",
    "            optimizer.zero_grad()\n",
    "            out=model(batch)\n",
    "            train_output=out.view([-1,50,2]).to(device)\n",
    "            train_label = batch.y[:,:,0:2]\n",
    "            train_availabilities = torch.squeeze(batch.y[:,:,2],dim=-1)\n",
    "            loss=loss_fn(train_label,train_output,train_availabilities)\n",
    "            loss = loss / len(train_label) # 这里务必除以batch大小\n",
    "            loss.backward()\n",
    "            optimizer.step()\n",
    "\n",
    "    return loss.item()\n",
    "\n"
   ]
  },
  {
   "cell_type": "code",
   "execution_count": null,
   "metadata": {
    "collapsed": false,
    "pycharm": {
     "name": "#%%\n"
    }
   },
   "outputs": [],
   "source": [
    "@torch.no_grad()\n",
    "def test_with_batch(model, device, data_loader, loss_fn):\n",
    "\n",
    "    model.eval()\n",
    "    y_true = []\n",
    "    y_pred = []\n",
    "    loss_array = []\n",
    "    y_availabilities = []\n",
    "    x_value = []\n",
    "\n",
    "    # for step, batch in enumerate(tqdm(data_loader, desc=\"Iteration\")):\n",
    "    for batch in data_loader:\n",
    "        batch = batch.to(device)\n",
    "        if batch.x.shape[0] == 1 or batch.batch[-1] == 0:\n",
    "            pass\n",
    "        else:\n",
    "            out=model(batch)\n",
    "\n",
    "            train_output=out.view([-1,50,2]).to(device)\n",
    "            train_label = batch.y[:,:,0:2]\n",
    "            train_availabilities = torch.squeeze(batch.y[:,:,2],dim=-1)\n",
    "            loss=loss_fn(train_label,train_output,train_availabilities)\n",
    "            loss = loss\n",
    "            y_true.append(train_label.detach().cpu())\n",
    "            y_pred.append(train_output.detach().cpu())\n",
    "            y_availabilities.append(train_availabilities.detach().cpu())\n",
    "            history_x = batch.x\n",
    "            x_value.append(history_x.detach().cpu())\n",
    "            loss_array.append(loss.item())\n",
    "\n",
    "    loss_array = np.array(loss_array)\n",
    "\n",
    "\n",
    "\n",
    "    return y_true,y_pred,loss_array,y_availabilities,x_value"
   ]
  },
  {
   "cell_type": "code",
   "execution_count": null,
   "metadata": {
    "collapsed": false,
    "pycharm": {
     "name": "#%%\n"
    }
   },
   "outputs": [],
   "source": [
    "import sys\n",
    "print(len(train_dataloader))\n",
    "# print(sys.getsizeof(train_dataloader[0]) / 1024 / 1024, 'MB')\n",
    "# for i in trange(0,100):\n",
    "#     print(i)"
   ]
  },
  {
   "cell_type": "code",
   "execution_count": null,
   "metadata": {
    "collapsed": false,
    "pycharm": {
     "name": "#%%\n"
    }
   },
   "outputs": [],
   "source": [
    "\n",
    "\n",
    "input_dim = len(frame_dic_array[0][\"x\"][0])\n",
    "model_gcn = GCN(input_dim=input_dim, hidden_dim=args[\"hidden_dim\"], output_dim = cfg[\"model_params\"][\"future_num_frames\"] * 2,num_layers=args[\"num_layers\"],dropout=args[\"dropout\"], whether_dropout=args[\"whether_dropout\"])\n",
    "\n",
    "model_gcn = model_gcn.to(device=args['device'])\n",
    "\n",
    "print(model_gcn.eval())\n",
    "\n",
    "optimizer = torch.optim.Adam(model_gcn.parameters(), lr=args[\"lr\"])"
   ]
  },
  {
   "cell_type": "code",
   "execution_count": null,
   "metadata": {
    "collapsed": false,
    "execution": {
     "iopub.execute_input": "2022-10-13T03:42:24.865235Z",
     "iopub.status.busy": "2022-10-13T03:42:24.865059Z",
     "iopub.status.idle": "2022-10-13T13:02:10.076070Z",
     "shell.execute_reply": "2022-10-13T13:02:10.075668Z"
    },
    "pycharm": {
     "name": "#%%\n"
    }
   },
   "outputs": [],
   "source": [
    "\n",
    "train_file = open('train_output.txt', 'w+',encoding = 'utf-8' )\n",
    "test_file = open( 'test_output.txt', 'w+',encoding = 'utf-8' )\n",
    "loss_each_epoch_train = []\n",
    "loss_each_epoch_test = []\n",
    "\n",
    "y_true_all = []\n",
    "y_pred_all = []\n",
    "y_availabilities_all = []\n",
    "x_value_all = []\n",
    "for epoch in trange(1, 1 + args[\"epochs\"]):\n",
    "\n",
    "\n",
    "    if epoch % 10 == 1:\n",
    "        loss_list = []\n",
    "        for test_scene_index in range(0,args['test_scene_end']-args['test_scene_start']):\n",
    "\n",
    "            dataloader = test_dataloader[test_scene_index]\n",
    "            y_true,y_pred,loss_array,y_availabilities,x_value = test_with_batch(model_gcn,args[\"device\"],dataloader,pytorch_neg_multi_log_likelihood_single)\n",
    "            loss_list.append(loss_array.mean())\n",
    "            if epoch > args[\"epochs\"] - 18:\n",
    "                y_true_all.append(y_true)\n",
    "                y_pred_all.append(y_pred)\n",
    "                y_availabilities_all.append(y_availabilities)\n",
    "                x_value_all.append(x_value)\n",
    "        loss_list = np.array(loss_list)\n",
    "        test_file.write(str(loss_list.mean()))\n",
    "        print(\"测试误差: \" + str(loss_list.mean()))\n",
    "        print(\"每个xy点预测误差\" + str(loss_list.mean()/50))\n",
    "        test_file.write(\"\\n\")\n",
    "        loss_each_epoch_test.append(loss_list.mean())\n",
    "\n",
    "    loss_this_epoch = 0\n",
    "\n",
    "    for train_scene_index in range(0,args['train_scene_end']-args['train_scene_start']):\n",
    "\n",
    "        dataloader = train_dataloader[train_scene_index]\n",
    "\n",
    "\n",
    "        loss_each_frame = train_with_batch(model_gcn,args[\"device\"],dataloader,optimizer,pytorch_neg_multi_log_likelihood_single)\n",
    "        loss_this_scene = np.mean(np.array(loss_each_frame))\n",
    "        loss_this_epoch = loss_this_epoch + loss_this_scene\n",
    "\n",
    "    loss_each_epoch_train.append(loss_this_epoch/(args['train_scene_end']-args['train_scene_start']))\n",
    "    train_file.write(str(loss_each_epoch_train[-1]))\n",
    "    train_file.write(\"\\n\")\n",
    "    if epoch % 10 == 1:\n",
    "        print(\"每10轮训练误差: \" + str(loss_each_epoch_train[-1]))\n",
    "\n",
    "\n",
    "\n",
    "test_file.close()\n",
    "train_file.close()\n",
    "torch.save(model_gcn,\"model_gcn_fc_2layer_fc_2022_10_22.pt\")"
   ]
  },
  {
   "cell_type": "code",
   "execution_count": null,
   "metadata": {
    "collapsed": false,
    "pycharm": {
     "name": "#%%\n"
    }
   },
   "outputs": [],
   "source": [
    "import pickle\n",
    "file1 = open(\"y_true_all.pkl\",\"wb\")\n",
    "pickle.dump(y_true_all, file1)\n",
    "file2 = open(\"y_pred_all.pkl\",\"wb\")\n",
    "pickle.dump(y_pred_all, file2)\n",
    "file3 = open(\"y_availabilities_all.pkl\",\"wb\")\n",
    "pickle.dump(y_availabilities_all, file3)\n",
    "file4 = open(\"x_value_all.pkl\",\"wb\")\n",
    "pickle.dump(x_value_all, file4)\n",
    "file5 = open(\"loss_each_epoch_train.pkl\",\"wb\")\n",
    "pickle.dump(loss_each_epoch_train, file5)\n",
    "file6 = open(\"loss_each_epoch_test.pkl\",\"wb\")\n",
    "pickle.dump(loss_each_epoch_test, file6)\n"
   ]
  },
  {
   "cell_type": "code",
   "execution_count": null,
   "metadata": {
    "collapsed": false,
    "pycharm": {
     "name": "#%%\n"
    }
   },
   "outputs": [],
   "source": [
    "import numpy as np\n",
    "import pickle\n",
    "file_open1 = open(\"loss_each_epoch_train.pkl\",\"rb\")\n",
    "loss_each_epoch_train = np.array(pickle.load(file_open1))\n",
    "file_open2 = open(\"loss_each_epoch_test.pkl\",\"rb\")\n",
    "loss_each_epoch_test = np.array(pickle.load(file_open2))"
   ]
  },
  {
   "cell_type": "code",
   "execution_count": null,
   "metadata": {
    "collapsed": false,
    "pycharm": {
     "name": "#%%\n"
    }
   },
   "outputs": [],
   "source": [
    "# print(loss_each_epoch_train)# 每一轮平均每一个场景的损失\n",
    "import matplotlib.pyplot as plt\n",
    "def plot_loss(loss_list):\n",
    "    plt.plot( np.arange(start=0,stop = len(loss_list)), loss_each_epoch_train)\n",
    "\n",
    "loss_each_epoch_train = loss_each_epoch_train * np.array([256])\n",
    "plot_loss(loss_each_epoch_train  )"
   ]
  },
  {
   "cell_type": "code",
   "execution_count": null,
   "metadata": {
    "collapsed": false,
    "pycharm": {
     "name": "#%%\n"
    }
   },
   "outputs": [],
   "source": [
    "test_dataloader = load_all_data_into_memory(test_ego_dataset,test_agent_dataset,args['test_scene_start'],args['test_scene_end'])"
   ]
  },
  {
   "cell_type": "code",
   "execution_count": null,
   "metadata": {
    "collapsed": false,
    "pycharm": {
     "name": "#%%\n"
    }
   },
   "outputs": [],
   "source": [
    "import torch\n",
    "import pickle\n",
    "\n",
    "model_gcn_load_5layer = torch.load(\"model_gcn_5layer_2022_10_21.pt\")\n",
    "model_gcn_load_3layer_fc = torch.load(\"model_gcn_3layer_2022_10_22.pt\")\n"
   ]
  },
  {
   "cell_type": "code",
   "execution_count": null,
   "metadata": {
    "collapsed": false,
    "pycharm": {
     "name": "#%%\n"
    }
   },
   "outputs": [],
   "source": [
    "loss_final_each_scene_train_5layer = []\n",
    "loss_final_each_scene_train_3layer_fc = []\n",
    "file_open3 = open(\"loss_baseline.pkl\",\"rb\")\n",
    "loss_each_epoch_test_cnn = np.array(pickle.load(file_open3))\n",
    "for test_scene_index in range(len(test_dataloader)):\n",
    "    dataloader = test_dataloader[test_scene_index]\n",
    "    y_true,y_pred,loss_array,y_availabilities,x_value = test_with_batch(model_gcn_load_5layer,args[\"device\"],dataloader,pytorch_neg_multi_log_likelihood_single)\n",
    "    loss_final_each_scene_train_5layer.append(loss_array)\n",
    "    y_true,y_pred,loss_array,y_availabilities,x_value = test_with_batch(model_gcn_load_3layer_fc,args[\"device\"],dataloader,pytorch_neg_multi_log_likelihood_single)\n",
    "    loss_final_each_scene_train_3layer_fc.append(loss_array)"
   ]
  },
  {
   "cell_type": "code",
   "execution_count": null,
   "metadata": {
    "collapsed": false,
    "pycharm": {
     "name": "#%%\n"
    }
   },
   "outputs": [],
   "source": [
    "file7 = open(\"loss_5layer.pkl\",\"wb\")\n",
    "pickle.dump(loss_final_each_scene_train_5layer, file7)\n",
    "file8 = open(\"loss_3layer.pkl\",\"wb\")\n",
    "pickle.dump(loss_final_each_scene_train_3layer_fc, file8)"
   ]
  },
  {
   "cell_type": "code",
   "execution_count": null,
   "metadata": {
    "collapsed": false,
    "pycharm": {
     "name": "#%%\n"
    }
   },
   "outputs": [],
   "source": [
    "\n",
    "loss_final_each_scene_train = np.array(loss_final_each_scene_train_3layer_fc).reshape(-1)\n",
    "line1, = plt.plot( range(30,50),loss_final_each_scene_train,color = 'blue',label='GNN_3layer_1fc')\n",
    "plt.scatter( range(30,50),loss_final_each_scene_train ,color = 'blue')\n",
    "\n",
    "line2, = plt.plot( range(30,50),loss_each_epoch_test_cnn,color = 'red',label='resnet_18')\n",
    "plt.scatter( range(30,50),loss_each_epoch_test_cnn,color = 'red')\n",
    "plt.legend(handles=[line1, line2], labels=['GNN_3layer_1fc','resnet_18'], loc='best')\n",
    "plt.show()\n",
    "print(f\"average loss of GNN_3layer_1fc:{np.mean(loss_final_each_scene_train)}\")\n",
    "print(f\"resnet_18:{np.mean(loss_each_epoch_test_cnn)}\")"
   ]
  },
  {
   "cell_type": "code",
   "execution_count": null,
   "metadata": {
    "collapsed": false,
    "pycharm": {
     "name": "#%%\n"
    }
   },
   "outputs": [],
   "source": [
    "print(y_availabilities)"
   ]
  },
  {
   "cell_type": "code",
   "execution_count": null,
   "metadata": {
    "collapsed": false,
    "pycharm": {
     "name": "#%%\n"
    }
   },
   "outputs": [],
   "source": [
    "print(y_availabilities[0].shape)"
   ]
  },
  {
   "cell_type": "code",
   "execution_count": null,
   "metadata": {
    "collapsed": false,
    "execution": {
     "iopub.execute_input": "2022-10-13T13:02:10.079596Z",
     "iopub.status.busy": "2022-10-13T13:02:10.079399Z",
     "iopub.status.idle": "2022-10-13T13:02:10.100590Z",
     "shell.execute_reply": "2022-10-13T13:02:10.100012Z"
    },
    "pycharm": {
     "name": "#%%\n"
    }
   },
   "outputs": [],
   "source": [
    "print(y_true[0].shape)\n",
    "for i in range(0,len(y_true[0]),5):\n",
    "    plt.figure(figsize=[10,4])\n",
    "    plt.subplot(121)\n",
    "    # draw_the_path(y_true[0][i,:,:])\n",
    "    plt.scatter(x = y_true[0][i,:,0], y = y_true[0][i,:,1])\n",
    "    plt.subplot(122)\n",
    "    # draw_the_path(y_pred[0][i,:,:])\n",
    "    plt.scatter(x = y_pred[0][i,:,0], y = y_pred[0][i,:,1])\n",
    "    plt.show()"
   ]
  },
  {
   "cell_type": "code",
   "execution_count": null,
   "metadata": {
    "collapsed": false,
    "pycharm": {
     "name": "#%%\n"
    }
   },
   "outputs": [],
   "source": [
    "def plot_self(dataloader,scene_index, car_index):\n",
    "    for batch in dataloader[scene_index]:\n",
    "        x = np.array(batch.y[:][car_index][0])\n",
    "        y = np.array(batch.y[:][car_index][0])\n",
    "        print(x)\n",
    "        print(y)\n",
    "        plt.scatter(x, y)\n",
    "        plt.show()\n",
    "\n",
    "\n",
    "plot_self(train_dataloader,2,2)"
   ]
  },
  {
   "cell_type": "markdown",
   "metadata": {
    "pycharm": {
     "name": "#%% md\n"
    }
   },
   "source": [
    "\n",
    "\n",
    "\n"
   ]
  },
  {
   "cell_type": "markdown",
   "metadata": {
    "pycharm": {
     "name": "#%% md\n"
    }
   },
   "source": [
    "You can obtrain training history results really easily by just accessing `LogReport` class, which is useful for managing a lot of experiments during kaggle competitions."
   ]
  },
  {
   "cell_type": "markdown",
   "metadata": {
    "pycharm": {
     "name": "#%% md\n"
    }
   },
   "source": [
    "The history log and model's weight are saved by \"extensions\" (`LogReport` and `E.snapshot_object` respectively) easily, which is a benefit of using training abstration."
   ]
  },
  {
   "cell_type": "code",
   "execution_count": null,
   "metadata": {
    "execution": {
     "iopub.execute_input": "2022-10-13T13:02:10.102975Z",
     "iopub.status.busy": "2022-10-13T13:02:10.102799Z",
     "iopub.status.idle": "2022-10-13T13:02:10.254308Z",
     "shell.execute_reply": "2022-10-13T13:02:10.253380Z"
    },
    "pycharm": {
     "name": "#%%\n"
    }
   },
   "outputs": [],
   "source": [
    "# Let's see training results directory\n",
    "\n",
    "!ls results/multi_train"
   ]
  },
  {
   "cell_type": "markdown",
   "metadata": {
    "pycharm": {
     "name": "#%% md\n"
    }
   },
   "source": [
    "# Items to try\n",
    "\n",
    "This kernel shows demonstration run of the training (`debug=True`). You can try these things to see how the score changes at first\n",
    " - set debug=False to train with actual training dataset\n",
    " - change training hyperparameters (training epoch, change optimizer, scheduler learning rate etc...)\n",
    "   - Especially, just training much longer time may improve the score.\n",
    " \n",
    "To go further, these items may be nice to try:\n",
    " - Change the cnn model (now simple resnet18 is used as baseline modeling)\n",
    " - Training the model using full dataset: [lyft-full-training-set](https://www.kaggle.com/philculliton/lyft-full-training-set)\n",
    " - Write your own rasterizer to prepare input image as motivation explained in previous kernel.\n",
    " - Consider much better scheme to predict multi-trajectory\n",
    "    - The model just predicts multiple trajectory at the same time in this kernel, but it is possible to collapse \"trivial\" solution where all trajectory converges to same. How to avoid this?"
   ]
  },
  {
   "cell_type": "markdown",
   "metadata": {
    "pycharm": {
     "name": "#%% md\n"
    }
   },
   "source": [
    "# Next to go\n",
    "\n",
    "[Update 2020/9/6]<br/>\n",
    "Published prediction kernel: [Lyft: Prediction with multi-mode confidence](https://www.kaggle.com/corochann/lyft-prediction-with-multi-mode-confidence)<br/>\n",
    "Try yourself how good score you can get using only single model without ensemble! :)\n",
    "\n",
    "To understand the competition in more detail, please refer my other kernels too.\n",
    " - [Lyft: Comprehensive guide to start competition](https://www.kaggle.com/corochann/lyft-comprehensive-guide-to-start-competition)\n",
    " - [Lyft: Deep into the l5kit library](https://www.kaggle.com/corochann/lyft-deep-into-the-l5kit-library)\n",
    " - [Save your time, submit without kernel inference](https://www.kaggle.com/corochann/save-your-time-submit-without-kernel-inference)\n",
    " - [Lyft: pytorch implementation of evaluation metric](https://www.kaggle.com/corochann/lyft-pytorch-implementation-of-evaluation-metric)"
   ]
  },
  {
   "cell_type": "markdown",
   "metadata": {
    "pycharm": {
     "name": "#%% md\n"
    }
   },
   "source": [
    "# Further reference\n",
    "\n",
    " - Paper of this Lyft Level 5 prediction dataset: [One Thousand and One Hours: Self-driving Motion Prediction Dataset](https://arxiv.org/abs/2006.14480)\n",
    " - [jpbremer/lyft-scene-visualisations](https://www.kaggle.com/jpbremer/lyft-scene-visualisations)"
   ]
  },
  {
   "cell_type": "markdown",
   "metadata": {
    "pycharm": {
     "name": "#%% md\n"
    }
   },
   "source": [
    "<h3 style=\"color:red\">If this kernel helps you, please upvote to keep me motivated :)<br>Thanks!</h3>"
   ]
  },
  {
   "cell_type": "code",
   "execution_count": null,
   "metadata": {
    "collapsed": false,
    "pycharm": {
     "name": "#%%\n"
    }
   },
   "outputs": [],
   "source": []
  }
 ],
 "metadata": {
  "interpreter": {
   "hash": "61a57a4b5406d2de388e2f91097d4e4bcd7d5f4a46f53a795aa28a02eed27fc5"
  },
  "kernelspec": {
   "display_name": "Python 3.9.12 ('base': conda)",
   "language": "python",
   "name": "python3"
  },
  "language_info": {
   "codemirror_mode": {
    "name": "ipython",
    "version": 3
   },
   "file_extension": ".py",
   "mimetype": "text/x-python",
   "name": "python",
   "nbconvert_exporter": "python",
   "pygments_lexer": "ipython3",
   "version": "3.9.12"
  }
 },
 "nbformat": 4,
 "nbformat_minor": 4
}