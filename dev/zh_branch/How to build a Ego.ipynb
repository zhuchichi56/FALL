{
 "cells": [
  {
   "cell_type": "code",
   "execution_count": 6,
   "metadata": {
    "collapsed": false
   },
   "outputs": [],
   "source": [
    "\n",
    "from l5kit.dataset.utils import convert_str_to_fixed_length_tensor\n",
    "import bisect\n",
    "from functools import partial\n",
    "import numpy as np\n",
    "from typing import Callable,Optional\n",
    "from torch.utils.data  import Dataset\n",
    "from l5kit.data import ChunkedDataset,get_frames_slice_from_scenes\n",
    "\n",
    "class MyBaseEgo(Dataset):\n",
    "\n",
    "    def __init__(\n",
    "            self,\n",
    "            cfg:dict,\n",
    "            zarr_dataset:ChunkedDataset,\n",
    "                 ) -> None:\n",
    "        super().__init__()\n",
    "        self.cfg = cfg\n",
    "        self.dataset = zarr_dataset\n",
    "        self.cumulative_sizes  = self.dataset.scenes[\"frame_index_interval\"][:,1]\n",
    "        self.sample_function  = self._get_sample_function()\n",
    "\n",
    "    #Callable 时间差一个函数是否能够进行调用\n",
    "    def _get_sample_function(self) -> Callable[..., dict]:\n",
    "        raise NotImplementedError()\n",
    "\n",
    "\n",
    "    def __len__(self):\n",
    "        return len(self.dataset.frames)\n",
    "    # 大约2000000张\n",
    "\n",
    "\n",
    "    \"\"\"\n",
    "       A utility function to get the rasterisation and trajectory target for a given agent in a given frame\n",
    "\n",
    "       Args:\n",
    "           scene_index (int): the index of the scene in the zarr\n",
    "           state_index (int): a relative frame index in the scene\n",
    "           track_id (Optional[int]): the agent to rasterize or None for the AV\n",
    "       Returns:\n",
    "           dict: the rasterised image in (Cx0x1) if the rast is not None, the target trajectory\n",
    "           (position and yaw) along with their availability, the 2D matrix to center that agent,\n",
    "           the agent track (-1 if ego) and the timestamp\n",
    "\n",
    "       \"\"\"\n",
    "    def get_frame(self,scene_index:int,state_index:int,track_id: Optional[int])->dict:\n",
    "        frames = self.dataset.frames[get_frames_slice_from_scenes(self.dataset.scenes[scene_index])]\n",
    "        tl_faces  = self.dataset.tl_faces\n",
    "\n",
    "        #如果不考虑交通灯就设置成0\n",
    "        if(self.cfg[\"raster_params\"][\"disable_traffic_light_faces\"]):\n",
    "            tl_faces = np.empty(0,dtype=self.dataset.tl_faces.dtype)\n",
    "\n",
    "        data = self.sample_function(state_index,frames,self.dataset.agents,tl_faces,track_id)\n",
    "        data[\"scene_index\"]  = scene_index\n",
    "        data[\"host_id\"] = np.uint8(convert_str_to_fixed_length_tensor(self.dataset\n",
    "                                                                      .scenes[scene_index][\"host\"]).cpu())\n",
    "        data[\"timestamp\"] = frames[state_index][\"tiemstamp\"]\n",
    "        data[\"track_id\"] = np.int64(-1 if track_id is None else track_id)\n",
    "        return data\n",
    "\n",
    "\n",
    "    def __getitem__(self, index: int) -> dict:\n",
    "        \"\"\"\n",
    "        Function called by Torch to get an element\n",
    "\n",
    "        Args:\n",
    "            index (int): index of the element to retrieve\n",
    "\n",
    "        Returns: please look get_frame signature and docstring\n",
    "\n",
    "        \"\"\"\n",
    "        if index < 0:\n",
    "            if -index > len(self):\n",
    "                raise ValueError(\"absolute value of index should not exceed dataset length\")\n",
    "            index = len(self) + index\n",
    "\n",
    "        scene_index = bisect.bisect_right(self.cumulative_sizes, index)\n",
    "\n",
    "        if scene_index == 0:\n",
    "            state_index = index\n",
    "        else:\n",
    "            state_index = index - self.cumulative_sizes[scene_index - 1]\n",
    "        return self.get_frame(scene_index, state_index,None)\n",
    "\n",
    "\n",
    "\n",
    "\n",
    "\n",
    "\n",
    "\n"
   ]
  },
  {
   "cell_type": "code",
   "execution_count": 6,
   "metadata": {
    "collapsed": false
   },
   "outputs": [],
   "source": [
    "\n"
   ]
  },
  {
   "cell_type": "code",
   "execution_count": null,
   "metadata": {
    "collapsed": false
   },
   "outputs": [],
   "source": []
  }
 ],
 "metadata": {
  "kernelspec": {
   "display_name": "Python 3",
   "language": "python",
   "name": "python3"
  },
  "language_info": {
   "codemirror_mode": {
    "name": "ipython",
    "version": 2
   },
   "file_extension": ".py",
   "mimetype": "text/x-python",
   "name": "python",
   "nbconvert_exporter": "python",
   "pygments_lexer": "ipython2",
   "version": "2.7.6"
  }
 },
 "nbformat": 4,
 "nbformat_minor": 0
}
